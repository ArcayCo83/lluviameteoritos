{
 "cells": [
  {
   "cell_type": "code",
   "execution_count": 1,
   "metadata": {},
   "outputs": [],
   "source": [
    "import pandas as pd\n",
    "import numpy as np"
   ]
  },
  {
   "cell_type": "code",
   "execution_count": 2,
   "metadata": {},
   "outputs": [],
   "source": [
    "meteor_showers = pd.read_csv('data/meteorshowers.csv')\n",
    "moon_phases = pd.read_csv('data/moonphases.csv')\n",
    "constellations = pd.read_csv('data/constellations.csv')\n",
    "cities = pd.read_csv('data/cities.csv')"
   ]
  },
  {
   "cell_type": "markdown",
   "metadata": {},
   "source": [
    "En el paso anterior lo que hacemos es cargar los datos de los csv provistos en formato csv, cada una con su nombre propio para que sean un dataframe separado cada uno."
   ]
  },
  {
   "cell_type": "code",
   "execution_count": 3,
   "metadata": {},
   "outputs": [
    {
     "name": "stdout",
     "output_type": "stream",
     "text": [
      "<class 'pandas.core.frame.DataFrame'>\n",
      "RangeIndex: 256 entries, 0 to 255\n",
      "Data columns (total 3 columns):\n",
      " #   Column    Non-Null Count  Dtype  \n",
      "---  ------    --------------  -----  \n",
      " 0   city      256 non-null    object \n",
      " 1   latitude  256 non-null    float64\n",
      " 2   country   256 non-null    object \n",
      "dtypes: float64(1), object(2)\n",
      "memory usage: 6.1+ KB\n"
     ]
    }
   ],
   "source": [
    "cities.info()"
   ]
  },
  {
   "cell_type": "markdown",
   "metadata": {},
   "source": [
    "El método `.info()` lo que hace es buscar la información general del data frame, entregando detalles de cada una de las columnas y los valores no nulos que se encuentran dentro de ellas.\n",
    "\n",
    "En este caso, se puede apreciar que las columnas:\n",
    "\n",
    "`city` tiene 256 filas de valores no nulos, de tipo objeto.\n",
    "\n",
    "`latitude` tiene 256 filas de valores no nulos de tipo decimal (float64)\n",
    "\n",
    "`country` tiene 255 filas de valores no nulos de tipo objeto."
   ]
  },
  {
   "cell_type": "markdown",
   "metadata": {},
   "source": [
    "## Diferencias entre `info()` y `head()`\n",
    "\n",
    "Principalmente, la diferencia, es que el método `head()` mostrará las primeras filas del data frame, mientras que `info` le dará un contexto a los datos contenidos en modo de resumen."
   ]
  },
  {
   "cell_type": "code",
   "execution_count": 4,
   "metadata": {},
   "outputs": [
    {
     "data": {
      "text/html": [
       "<div>\n",
       "<style scoped>\n",
       "    .dataframe tbody tr th:only-of-type {\n",
       "        vertical-align: middle;\n",
       "    }\n",
       "\n",
       "    .dataframe tbody tr th {\n",
       "        vertical-align: top;\n",
       "    }\n",
       "\n",
       "    .dataframe thead th {\n",
       "        text-align: right;\n",
       "    }\n",
       "</style>\n",
       "<table border=\"1\" class=\"dataframe\">\n",
       "  <thead>\n",
       "    <tr style=\"text-align: right;\">\n",
       "      <th></th>\n",
       "      <th>city</th>\n",
       "      <th>latitude</th>\n",
       "      <th>country</th>\n",
       "    </tr>\n",
       "  </thead>\n",
       "  <tbody>\n",
       "    <tr>\n",
       "      <th>0</th>\n",
       "      <td>Abu Dhabi</td>\n",
       "      <td>24.47</td>\n",
       "      <td>United Arab Emirates</td>\n",
       "    </tr>\n",
       "    <tr>\n",
       "      <th>1</th>\n",
       "      <td>Abuja</td>\n",
       "      <td>9.07</td>\n",
       "      <td>Nigeria</td>\n",
       "    </tr>\n",
       "    <tr>\n",
       "      <th>2</th>\n",
       "      <td>Accra</td>\n",
       "      <td>5.55</td>\n",
       "      <td>Ghana</td>\n",
       "    </tr>\n",
       "    <tr>\n",
       "      <th>3</th>\n",
       "      <td>Adamstown</td>\n",
       "      <td>-25.07</td>\n",
       "      <td>Pitcairn Islands</td>\n",
       "    </tr>\n",
       "    <tr>\n",
       "      <th>4</th>\n",
       "      <td>Addis Ababa</td>\n",
       "      <td>9.02</td>\n",
       "      <td>Ethiopia</td>\n",
       "    </tr>\n",
       "  </tbody>\n",
       "</table>\n",
       "</div>"
      ],
      "text/plain": [
       "          city  latitude               country\n",
       "0    Abu Dhabi     24.47  United Arab Emirates\n",
       "1        Abuja      9.07               Nigeria\n",
       "2        Accra      5.55                 Ghana\n",
       "3    Adamstown    -25.07      Pitcairn Islands\n",
       "4  Addis Ababa      9.02              Ethiopia"
      ]
     },
     "execution_count": 4,
     "metadata": {},
     "output_type": "execute_result"
    }
   ],
   "source": [
    "cities.head()"
   ]
  },
  {
   "cell_type": "code",
   "execution_count": 5,
   "metadata": {},
   "outputs": [
    {
     "data": {
      "text/html": [
       "<div>\n",
       "<style scoped>\n",
       "    .dataframe tbody tr th:only-of-type {\n",
       "        vertical-align: middle;\n",
       "    }\n",
       "\n",
       "    .dataframe tbody tr th {\n",
       "        vertical-align: top;\n",
       "    }\n",
       "\n",
       "    .dataframe thead th {\n",
       "        text-align: right;\n",
       "    }\n",
       "</style>\n",
       "<table border=\"1\" class=\"dataframe\">\n",
       "  <thead>\n",
       "    <tr style=\"text-align: right;\">\n",
       "      <th></th>\n",
       "      <th>name</th>\n",
       "      <th>radiant</th>\n",
       "      <th>bestmonth</th>\n",
       "      <th>startmonth</th>\n",
       "      <th>startday</th>\n",
       "      <th>endmonth</th>\n",
       "      <th>endday</th>\n",
       "      <th>hemisphere</th>\n",
       "      <th>preferredhemisphere</th>\n",
       "    </tr>\n",
       "  </thead>\n",
       "  <tbody>\n",
       "    <tr>\n",
       "      <th>0</th>\n",
       "      <td>Lyrids</td>\n",
       "      <td>Lyra</td>\n",
       "      <td>april</td>\n",
       "      <td>april</td>\n",
       "      <td>21</td>\n",
       "      <td>april</td>\n",
       "      <td>22</td>\n",
       "      <td>northern</td>\n",
       "      <td>northern</td>\n",
       "    </tr>\n",
       "    <tr>\n",
       "      <th>1</th>\n",
       "      <td>Eta Aquarids</td>\n",
       "      <td>Aquarius</td>\n",
       "      <td>may</td>\n",
       "      <td>april</td>\n",
       "      <td>19</td>\n",
       "      <td>may</td>\n",
       "      <td>28</td>\n",
       "      <td>northern, southern</td>\n",
       "      <td>southern</td>\n",
       "    </tr>\n",
       "    <tr>\n",
       "      <th>2</th>\n",
       "      <td>Orionids</td>\n",
       "      <td>Orion</td>\n",
       "      <td>october</td>\n",
       "      <td>october</td>\n",
       "      <td>2</td>\n",
       "      <td>november</td>\n",
       "      <td>7</td>\n",
       "      <td>northern, southern</td>\n",
       "      <td>northern, southern</td>\n",
       "    </tr>\n",
       "    <tr>\n",
       "      <th>3</th>\n",
       "      <td>Perseids</td>\n",
       "      <td>Perseus</td>\n",
       "      <td>august</td>\n",
       "      <td>july</td>\n",
       "      <td>14</td>\n",
       "      <td>august</td>\n",
       "      <td>24</td>\n",
       "      <td>northern</td>\n",
       "      <td>northern</td>\n",
       "    </tr>\n",
       "    <tr>\n",
       "      <th>4</th>\n",
       "      <td>Leonids</td>\n",
       "      <td>Leo</td>\n",
       "      <td>november</td>\n",
       "      <td>november</td>\n",
       "      <td>6</td>\n",
       "      <td>november</td>\n",
       "      <td>30</td>\n",
       "      <td>northern, southern</td>\n",
       "      <td>northern, southern</td>\n",
       "    </tr>\n",
       "  </tbody>\n",
       "</table>\n",
       "</div>"
      ],
      "text/plain": [
       "           name   radiant bestmonth startmonth  startday  endmonth  endday  \\\n",
       "0        Lyrids      Lyra     april      april        21     april      22   \n",
       "1  Eta Aquarids  Aquarius       may      april        19       may      28   \n",
       "2      Orionids     Orion   october    october         2  november       7   \n",
       "3      Perseids   Perseus    august       july        14    august      24   \n",
       "4       Leonids       Leo  november   november         6  november      30   \n",
       "\n",
       "           hemisphere preferredhemisphere  \n",
       "0            northern            northern  \n",
       "1  northern, southern            southern  \n",
       "2  northern, southern  northern, southern  \n",
       "3            northern            northern  \n",
       "4  northern, southern  northern, southern  "
      ]
     },
     "execution_count": 5,
     "metadata": {},
     "output_type": "execute_result"
    }
   ],
   "source": [
    "meteor_showers.head()"
   ]
  },
  {
   "cell_type": "markdown",
   "metadata": {},
   "source": [
    "# Información sobre los data frames \n",
    "\n",
    "Los data frames obtenidos de los csv tienen diferentes datos relevantes para la predicción de lluvias de meteoritos, tal como vimos en el caso del data frame `cities`, los otros casos tienen información sobre:\n",
    "\n",
    "+ `constellations`: Las diferentes constelaciones y dónde pueden verse, la latitud donde se empiezan a ver y la latitud donde estas se pueden dejar de ver. En palabras sencillas, si estás en la Tierra, dependiendo de tu posición geográfica, podrás ver ciertas constelaciones, las cuales son específicas para ciertos meses en particular.\n",
    "\n",
    "+ `moonphases`: Las fases de la luna, por ejemplo, el 2 de enero, había cuarto menguante (first quarter). O el 10 de enero hubo luna llena, el 24 de enero hubo luna nueva. Mientras que todas las fechas que hubo entre esas fechas en específico, implicaban el cambio de fase de la lluna.\n",
    "\n",
    "+ `meteorshowers`: La información de lluvias de meteoritos. También muestra la información de la constelación de la cual proviene la lluvia de meteoritos. El mejor mes para verlo. El mes y el día desde cuándo será visible hasta el mes y el día en que podrá verse por última vez, el hemisferio en donde se presentará la posibilidad de visibilización y el mejor hemisferio de la tierra para verlo.\n",
    "\n",
    "+ `cities`: Incluye la información de las ciudades, pero también su latitud y país al que permanecen."
   ]
  },
  {
   "cell_type": "markdown",
   "metadata": {},
   "source": [
    "# Consejo de manejar las fechas\n",
    "\n",
    "Para manejar las fechas, lo mejor es transformar las fechas en números, debido a que computacionalmente cualquier lenguaje de programación podría ser indicador de un desorden, por ejemplo, computacionalmente, august (agosto) va antes que march (marzo). Entonces, el ordenar las fechas pasa a ser un proceso fundamental, especialmente en un data frame en donde tenemos las columnas día de inicio, mes de inicio, día final, mes final."
   ]
  }
 ],
 "metadata": {
  "kernelspec": {
   "display_name": "Python 3",
   "language": "python",
   "name": "python3"
  },
  "language_info": {
   "codemirror_mode": {
    "name": "ipython",
    "version": 3
   },
   "file_extension": ".py",
   "mimetype": "text/x-python",
   "name": "python",
   "nbconvert_exporter": "python",
   "pygments_lexer": "ipython3",
   "version": "3.11.9"
  }
 },
 "nbformat": 4,
 "nbformat_minor": 2
}
